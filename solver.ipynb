{
  "nbformat": 4,
  "nbformat_minor": 0,
  "metadata": {
    "colab": {
      "name": "Solver.ipynb",
      "provenance": [],
      "collapsed_sections": [],
      "authorship_tag": "ABX9TyOosX1xwu+XClD3KDxMaUSK",
      "include_colab_link": true
    },
    "kernelspec": {
      "name": "python3",
      "display_name": "Python 3"
    },
    "language_info": {
      "name": "python"
    },
    "accelerator": "GPU",
    "gpuClass": "standard"
  },
  "cells": [
    {
      "cell_type": "markdown",
      "metadata": {
        "id": "view-in-github",
        "colab_type": "text"
      },
      "source": [
        "<a href=\"https://colab.research.google.com/github/fredsta98/solver/blob/main/solver.ipynb\" target=\"_parent\"><img src=\"https://colab.research.google.com/assets/colab-badge.svg\" alt=\"Open In Colab\"/></a>"
      ]
    },
    {
      "cell_type": "markdown",
      "source": [
        "#Solver \n",
        "\n",
        "Find the missing values in a private key given you know the corresponding address."
      ],
      "metadata": {
        "id": "5zGYTfVJzysi"
      }
    },
    {
      "cell_type": "markdown",
      "source": [
        "Change runtime to GPU in Runtime>Change runtime type and check to see if GPU is now connected."
      ],
      "metadata": {
        "id": "UgkkxQxk0E5q"
      }
    },
    {
      "cell_type": "code",
      "execution_count": null,
      "metadata": {
        "colab": {
          "base_uri": "https://localhost:8080/"
        },
        "id": "5bga6rBVffIu",
        "outputId": "d8374386-3321-4608-af3c-d959e97768d8"
      },
      "outputs": [
        {
          "output_type": "stream",
          "name": "stdout",
          "text": [
            "Tue Aug 23 23:37:24 2022       \n",
            "+-----------------------------------------------------------------------------+\n",
            "| NVIDIA-SMI 460.32.03    Driver Version: 460.32.03    CUDA Version: 11.2     |\n",
            "|-------------------------------+----------------------+----------------------+\n",
            "| GPU  Name        Persistence-M| Bus-Id        Disp.A | Volatile Uncorr. ECC |\n",
            "| Fan  Temp  Perf  Pwr:Usage/Cap|         Memory-Usage | GPU-Util  Compute M. |\n",
            "|                               |                      |               MIG M. |\n",
            "|===============================+======================+======================|\n",
            "|   0  Tesla T4            Off  | 00000000:00:04.0 Off |                    0 |\n",
            "| N/A   37C    P8     9W /  70W |      0MiB / 15109MiB |      0%      Default |\n",
            "|                               |                      |                  N/A |\n",
            "+-------------------------------+----------------------+----------------------+\n",
            "                                                                               \n",
            "+-----------------------------------------------------------------------------+\n",
            "| Processes:                                                                  |\n",
            "|  GPU   GI   CI        PID   Type   Process name                  GPU Memory |\n",
            "|        ID   ID                                                   Usage      |\n",
            "|=============================================================================|\n",
            "|  No running processes found                                                 |\n",
            "+-----------------------------------------------------------------------------+\n"
          ]
        }
      ],
      "source": [
        "!nvidia-smi\n"
      ]
    },
    {
      "cell_type": "markdown",
      "source": [
        "## Install conda\n",
        "\n",
        "To install conda, a library has been created specifically for Google Colab, conda-colab, and fortunately for us it is very easy to use!"
      ],
      "metadata": {
        "id": "z0UFsPrQ0k3s"
      }
    },
    {
      "cell_type": "code",
      "source": [
        "!pip install -q condacolab\n",
        "import condacolab\n",
        "condacolab.install()"
      ],
      "metadata": {
        "colab": {
          "base_uri": "https://localhost:8080/"
        },
        "id": "5QuSjpirfiMZ",
        "outputId": "892d6420-8d8e-48bf-c289-27a68a3c6ce9"
      },
      "execution_count": null,
      "outputs": [
        {
          "output_type": "stream",
          "name": "stdout",
          "text": [
            "⏬ Downloading https://github.com/jaimergp/miniforge/releases/latest/download/Mambaforge-colab-Linux-x86_64.sh...\n",
            "📦 Installing...\n",
            "📌 Adjusting configuration...\n",
            "🩹 Patching environment...\n",
            "⏲ Done in 0:00:23\n",
            "🔁 Restarting kernel...\n"
          ]
        }
      ]
    },
    {
      "cell_type": "markdown",
      "source": [
        "Check if conda is now installed"
      ],
      "metadata": {
        "id": "uOPxauaX0_XX"
      }
    },
    {
      "cell_type": "code",
      "source": [
        "!conda --version"
      ],
      "metadata": {
        "colab": {
          "base_uri": "https://localhost:8080/"
        },
        "id": "hxlaSTaS1DLq",
        "outputId": "4f2fef92-3bdd-41b4-a115-0db66bdd6b04"
      },
      "execution_count": null,
      "outputs": [
        {
          "output_type": "stream",
          "name": "stdout",
          "text": [
            "conda 4.9.2\n"
          ]
        }
      ]
    },
    {
      "cell_type": "markdown",
      "source": [
        "Install Cudatoolkit and Numba (for running on GPU is running on CPU you can skip this step)"
      ],
      "metadata": {
        "id": "1xkvNgXy1JTN"
      }
    },
    {
      "cell_type": "code",
      "source": [
        "!conda install numba\n",
        "!conda install cudatoolkit"
      ],
      "metadata": {
        "colab": {
          "base_uri": "https://localhost:8080/"
        },
        "id": "5v7TeHrg1ZHr",
        "outputId": "eba4f149-2594-46d9-9db8-e20e5bf97d5b"
      },
      "execution_count": null,
      "outputs": [
        {
          "output_type": "stream",
          "name": "stdout",
          "text": [
            "Collecting package metadata (current_repodata.json): - \b\b\\ \b\b| \b\b/ \b\b- \b\b\\ \b\b| \b\b/ \b\b- \b\b\\ \b\b| \b\b/ \b\b- \b\b\\ \b\b| \b\b/ \b\b- \b\b\\ \b\b| \b\b/ \b\b- \b\b\\ \b\b| \b\b/ \b\b- \b\b\\ \b\b| \b\b/ \b\b- \b\b\\ \b\b| \b\b/ \b\b- \b\b\\ \b\b| \b\b/ \b\b- \b\b\\ \b\b| \b\b/ \b\b- \b\b\\ \b\b| \b\b/ \b\b- \b\b\\ \b\b| \b\b/ \b\b- \b\b\\ \b\b| \b\b/ \b\b- \b\b\\ \b\b| \b\b/ \b\b- \b\b\\ \b\b| \b\b/ \b\b- \b\b\\ \b\b| \b\b/ \b\b- \b\b\\ \b\b| \b\b/ \b\b- \b\b\\ \b\b| \b\b/ \b\b- \b\b\\ \b\b| \b\b/ \b\b- \b\b\\ \b\b| \b\b/ \b\b- \b\b\\ \b\bdone\n",
            "Solving environment: / \b\b- \b\b\\ \b\b| \b\b/ \b\b- \b\b\\ \b\b| \b\b/ \b\b- \b\b\\ \b\b| \b\b/ \b\b- \b\b\\ \b\b| \b\b/ \b\b- \b\b\\ \b\b| \b\b/ \b\b- \b\b\\ \b\b| \b\b/ \b\b- \b\b\\ \b\b| \b\b/ \b\b- \b\b\\ \b\b| \b\b/ \b\b- \b\b\\ \b\b| \b\b/ \b\bdone\n",
            "\n",
            "## Package Plan ##\n",
            "\n",
            "  environment location: /usr/local\n",
            "\n",
            "  added / updated specs:\n",
            "    - numba\n",
            "\n",
            "\n",
            "The following packages will be downloaded:\n",
            "\n",
            "    package                    |            build\n",
            "    ---------------------------|-----------------\n",
            "    ca-certificates-2022.6.15  |       ha878542_0         149 KB  conda-forge\n",
            "    certifi-2022.6.15          |   py37h89c1867_0         155 KB  conda-forge\n",
            "    conda-4.14.0               |   py37h89c1867_0        1010 KB  conda-forge\n",
            "    cudatoolkit-11.1.1         |      ha002fc5_10        1.20 GB  conda-forge\n",
            "    libblas-3.9.0              |16_linux64_openblas          13 KB  conda-forge\n",
            "    libcblas-3.9.0             |16_linux64_openblas          13 KB  conda-forge\n",
            "    libgcc-ng-12.1.0           |      h8d9b700_16         940 KB  conda-forge\n",
            "    libgfortran-ng-12.1.0      |      h69a702a_16          23 KB  conda-forge\n",
            "    libgfortran5-12.1.0        |      hdcd56e2_16         1.8 MB  conda-forge\n",
            "    libgomp-12.1.0             |      h8d9b700_16         459 KB  conda-forge\n",
            "    liblapack-3.9.0            |16_linux64_openblas          13 KB  conda-forge\n",
            "    libllvm11-11.1.0           |       hf817b99_3        29.1 MB  conda-forge\n",
            "    libopenblas-0.3.21         |pthreads_h78a6416_2        10.1 MB  conda-forge\n",
            "    libstdcxx-ng-12.1.0        |      ha89aaad_16         4.3 MB  conda-forge\n",
            "    libzlib-1.2.12             |       h166bdaf_2          63 KB  conda-forge\n",
            "    llvmlite-0.38.1            |   py37h0761922_0         2.3 MB  conda-forge\n",
            "    numba-0.55.2               |   py37h43839f2_0         3.8 MB  conda-forge\n",
            "    numpy-1.21.6               |   py37h976b520_0         6.1 MB  conda-forge\n",
            "    openssl-1.1.1q             |       h166bdaf_0         2.1 MB  conda-forge\n",
            "    python_abi-3.7             |          2_cp37m           4 KB  conda-forge\n",
            "    toolz-0.12.0               |     pyhd8ed1ab_0          48 KB  conda-forge\n",
            "    zlib-1.2.12                |       h166bdaf_2          91 KB  conda-forge\n",
            "    ------------------------------------------------------------\n",
            "                                           Total:        1.27 GB\n",
            "\n",
            "The following NEW packages will be INSTALLED:\n",
            "\n",
            "  cudatoolkit        conda-forge/linux-64::cudatoolkit-11.1.1-ha002fc5_10\n",
            "  libblas            conda-forge/linux-64::libblas-3.9.0-16_linux64_openblas\n",
            "  libcblas           conda-forge/linux-64::libcblas-3.9.0-16_linux64_openblas\n",
            "  libgfortran-ng     conda-forge/linux-64::libgfortran-ng-12.1.0-h69a702a_16\n",
            "  libgfortran5       conda-forge/linux-64::libgfortran5-12.1.0-hdcd56e2_16\n",
            "  liblapack          conda-forge/linux-64::liblapack-3.9.0-16_linux64_openblas\n",
            "  libllvm11          conda-forge/linux-64::libllvm11-11.1.0-hf817b99_3\n",
            "  libopenblas        conda-forge/linux-64::libopenblas-0.3.21-pthreads_h78a6416_2\n",
            "  libzlib            conda-forge/linux-64::libzlib-1.2.12-h166bdaf_2\n",
            "  llvmlite           conda-forge/linux-64::llvmlite-0.38.1-py37h0761922_0\n",
            "  numba              conda-forge/linux-64::numba-0.55.2-py37h43839f2_0\n",
            "  numpy              conda-forge/linux-64::numpy-1.21.6-py37h976b520_0\n",
            "  toolz              conda-forge/noarch::toolz-0.12.0-pyhd8ed1ab_0\n",
            "\n",
            "The following packages will be UPDATED:\n",
            "\n",
            "  ca-certificates                      2020.12.5-ha878542_0 --> 2022.6.15-ha878542_0\n",
            "  certifi                          2020.12.5-py37h89c1867_1 --> 2022.6.15-py37h89c1867_0\n",
            "  conda                                4.9.2-py37h89c1867_0 --> 4.14.0-py37h89c1867_0\n",
            "  libgcc-ng                               9.3.0-h2828fa1_18 --> 12.1.0-h8d9b700_16\n",
            "  libgomp                                 9.3.0-h2828fa1_18 --> 12.1.0-h8d9b700_16\n",
            "  libstdcxx-ng                            9.3.0-h6de172a_18 --> 12.1.0-ha89aaad_16\n",
            "  openssl                                 1.1.1j-h7f98852_0 --> 1.1.1q-h166bdaf_0\n",
            "  python_abi                                    3.7-1_cp37m --> 3.7-2_cp37m\n",
            "  zlib                                 1.2.11-h516909a_1010 --> 1.2.12-h166bdaf_2\n",
            "\n",
            "\n",
            "\n",
            "Downloading and Extracting Packages\n",
            "certifi-2022.6.15    | 155 KB    | : 100% 1.0/1 [00:00<00:00, 12.02it/s]\n",
            "zlib-1.2.12          | 91 KB     | : 100% 1.0/1 [00:00<00:00, 22.55it/s]\n",
            "liblapack-3.9.0      | 13 KB     | : 100% 1.0/1 [00:00<00:00, 27.91it/s]\n",
            "libopenblas-0.3.21   | 10.1 MB   | : 100% 1.0/1 [00:01<00:00,  1.58s/it]\n",
            "numba-0.55.2         | 3.8 MB    | : 100% 1.0/1 [00:00<00:00,  1.25it/s]\n",
            "numpy-1.21.6         | 6.1 MB    | : 100% 1.0/1 [00:01<00:00,  1.24s/it]\n",
            "libzlib-1.2.12       | 63 KB     | : 100% 1.0/1 [00:00<00:00, 24.40it/s]\n",
            "libgfortran5-12.1.0  | 1.8 MB    | : 100% 1.0/1 [00:00<00:00,  2.99it/s]\n",
            "libblas-3.9.0        | 13 KB     | : 100% 1.0/1 [00:00<00:00, 27.34it/s]\n",
            "cudatoolkit-11.1.1   | 1.20 GB   | : 100% 1.0/1 [02:39<00:00, 159.56s/it]              \n",
            "ca-certificates-2022 | 149 KB    | : 100% 1.0/1 [00:00<00:00, 12.71it/s]\n",
            "openssl-1.1.1q       | 2.1 MB    | : 100% 1.0/1 [00:00<00:00,  3.08it/s]\n",
            "libgcc-ng-12.1.0     | 940 KB    | : 100% 1.0/1 [00:00<00:00,  6.15it/s]\n",
            "libgfortran-ng-12.1. | 23 KB     | : 100% 1.0/1 [00:00<00:00, 26.10it/s]\n",
            "libllvm11-11.1.0     | 29.1 MB   | : 100% 1.0/1 [00:04<00:00,  4.58s/it]               \n",
            "toolz-0.12.0         | 48 KB     | : 100% 1.0/1 [00:00<00:00, 19.93it/s]\n",
            "conda-4.14.0         | 1010 KB   | : 100% 1.0/1 [00:00<00:00,  3.90it/s]\n",
            "python_abi-3.7       | 4 KB      | : 100% 1.0/1 [00:00<00:00, 31.27it/s]\n",
            "libcblas-3.9.0       | 13 KB     | : 100% 1.0/1 [00:00<00:00, 18.99it/s]\n",
            "llvmlite-0.38.1      | 2.3 MB    | : 100% 1.0/1 [00:00<00:00,  2.35it/s]\n",
            "libgomp-12.1.0       | 459 KB    | : 100% 1.0/1 [00:00<00:00, 11.24it/s]\n",
            "libstdcxx-ng-12.1.0  | 4.3 MB    | : 100% 1.0/1 [00:00<00:00,  1.61it/s]\n",
            "Preparing transaction: \\ \b\b| \b\bdone\n",
            "Verifying transaction: - \b\b\\ \b\b| \b\b/ \b\bdone\n",
            "Executing transaction: \\ \b\b| \b\b/ \b\b- \b\b\\ \b\b| By downloading and using the CUDA Toolkit conda packages, you accept the terms and conditions of the CUDA End User License Agreement (EULA): https://docs.nvidia.com/cuda/eula/index.html\n",
            "\n",
            "\b\b/ \b\b- \b\b\\ \b\b| \b\b/ \b\bdone\n",
            "Collecting package metadata (current_repodata.json): - \b\b\\ \b\b| \b\b/ \b\b- \b\b\\ \b\b| \b\b/ \b\b- \b\b\\ \b\b| \b\b/ \b\b- \b\b\\ \b\b| \b\b/ \b\bdone\n",
            "Solving environment: \\ \b\b| \b\b/ \b\b- \b\b\\ \b\b| \b\b/ \b\b- \b\b\\ \b\b| \b\b/ \b\b- \b\bdone\n",
            "\n",
            "# All requested packages already installed.\n",
            "\n",
            "Retrieving notices: ...working... done\n"
          ]
        }
      ]
    },
    {
      "cell_type": "markdown",
      "source": [
        "Download Solver* from [Github](https://github.com/fredsta98/solver.git)"
      ],
      "metadata": {
        "id": "djqHc08F1yNr"
      }
    },
    {
      "cell_type": "code",
      "source": [
        "!git clone https://github.com/fredsta98/solver.git"
      ],
      "metadata": {
        "colab": {
          "base_uri": "https://localhost:8080/"
        },
        "id": "rC3tthL22Aaj",
        "outputId": "85569075-25bf-4ea0-b8f6-5204e041bc72"
      },
      "execution_count": null,
      "outputs": [
        {
          "output_type": "stream",
          "name": "stdout",
          "text": [
            "Cloning into 'solver'...\n",
            "remote: Enumerating objects: 21, done.\u001b[K\n",
            "remote: Counting objects: 100% (21/21), done.\u001b[K\n",
            "remote: Compressing objects: 100% (20/20), done.\u001b[K\n",
            "remote: Total 21 (delta 8), reused 0 (delta 0), pack-reused 0\u001b[K\n",
            "Unpacking objects: 100% (21/21), done.\n"
          ]
        }
      ]
    },
    {
      "cell_type": "markdown",
      "source": [
        "Navigate to 'solver'"
      ],
      "metadata": {
        "id": "ljPaXwjb21sM"
      }
    },
    {
      "cell_type": "code",
      "source": [
        "!ls\n",
        "%cd solver\n",
        "!ls"
      ],
      "metadata": {
        "colab": {
          "base_uri": "https://localhost:8080/"
        },
        "id": "NiHgdzUL2WHR",
        "outputId": "de6d3ee7-3dd3-46d1-eec5-db7e8ccb5819"
      },
      "execution_count": null,
      "outputs": [
        {
          "output_type": "stream",
          "name": "stdout",
          "text": [
            "condacolab_install.log\tsample_data  solver\n",
            "/content/solver\n",
            "LICENSE  main.py  README.md  requirements.txt  solver.py\n"
          ]
        }
      ]
    },
    {
      "cell_type": "markdown",
      "source": [
        "Install Requirements:"
      ],
      "metadata": {
        "id": "vMnMDfkj2NEh"
      }
    },
    {
      "cell_type": "code",
      "source": [
        "!pip install -r requirements.txt"
      ],
      "metadata": {
        "colab": {
          "base_uri": "https://localhost:8080/"
        },
        "id": "bYPQaRzT2Rib",
        "outputId": "01da11a2-04a5-47e2-8316-8059aae46da4"
      },
      "execution_count": null,
      "outputs": [
        {
          "output_type": "stream",
          "name": "stdout",
          "text": [
            "Looking in indexes: https://pypi.org/simple, https://us-python.pkg.dev/colab-wheels/public/simple/\n",
            "Collecting base58==2.1.1\n",
            "  Downloading base58-2.1.1-py3-none-any.whl (5.6 kB)\n",
            "Collecting btc-com==0.0.1\n",
            "  Downloading btc_com-0.0.1-py3-none-any.whl (7.9 kB)\n",
            "Requirement already satisfied: certifi==2022.6.15 in /usr/local/lib/python3.7/site-packages (from -r requirements.txt (line 3)) (2022.6.15)\n",
            "Collecting charset-normalizer==2.1.0\n",
            "  Downloading charset_normalizer-2.1.0-py3-none-any.whl (39 kB)\n",
            "Collecting ecdsa==0.17.0\n",
            "  Downloading ecdsa-0.17.0-py2.py3-none-any.whl (119 kB)\n",
            "\u001b[K     |████████████████████████████████| 119 kB 57.8 MB/s \n",
            "\u001b[?25hCollecting hdwallet==2.1.1\n",
            "  Downloading hdwallet-2.1.1-py3-none-any.whl (68 kB)\n",
            "\u001b[K     |████████████████████████████████| 68 kB 7.8 MB/s \n",
            "\u001b[?25hCollecting idna==3.3\n",
            "  Downloading idna-3.3-py3-none-any.whl (61 kB)\n",
            "\u001b[K     |████████████████████████████████| 61 kB 8.5 MB/s \n",
            "\u001b[?25hCollecting mnemonic==0.20\n",
            "  Downloading mnemonic-0.20-py3-none-any.whl (62 kB)\n",
            "\u001b[K     |████████████████████████████████| 62 kB 677 kB/s \n",
            "\u001b[?25hCollecting pysha3==1.0.2\n",
            "  Downloading pysha3-1.0.2.tar.gz (829 kB)\n",
            "\u001b[K     |████████████████████████████████| 829 kB 58.9 MB/s \n",
            "\u001b[?25hCollecting requests==2.28.1\n",
            "  Downloading requests-2.28.1-py3-none-any.whl (62 kB)\n",
            "\u001b[K     |████████████████████████████████| 62 kB 1.6 MB/s \n",
            "\u001b[?25hCollecting six==1.16.0\n",
            "  Downloading six-1.16.0-py2.py3-none-any.whl (11 kB)\n",
            "Collecting tqdm==4.64.0\n",
            "  Downloading tqdm-4.64.0-py2.py3-none-any.whl (78 kB)\n",
            "\u001b[K     |████████████████████████████████| 78 kB 8.7 MB/s \n",
            "\u001b[?25hCollecting trotter\n",
            "  Downloading trotter-0.8.0.tar.gz (5.5 kB)\n",
            "Collecting urllib3==1.26.9\n",
            "  Downloading urllib3-1.26.9-py2.py3-none-any.whl (138 kB)\n",
            "\u001b[K     |████████████████████████████████| 138 kB 64.6 MB/s \n",
            "\u001b[?25hBuilding wheels for collected packages: pysha3, trotter\n",
            "  Building wheel for pysha3 (setup.py) ... \u001b[?25l\u001b[?25hdone\n",
            "  Created wheel for pysha3: filename=pysha3-1.0.2-cp37-cp37m-linux_x86_64.whl size=135888 sha256=60f6e4a97a3b164fadc774e47b3a2a0173f8fd6840ae913a152b72ca82fff653\n",
            "  Stored in directory: /root/.cache/pip/wheels/0d/9e/bc/789fa0986c1fef30cafcc29da4dd07bc17ecba3fab78e27ed6\n",
            "  Building wheel for trotter (setup.py) ... \u001b[?25l\u001b[?25hdone\n",
            "  Created wheel for trotter: filename=trotter-0.8.0-py3-none-any.whl size=5957 sha256=e05a6cadab588055b63d8f2d2b22a110b7f7d8df44f02e1342c2427e87d7090b\n",
            "  Stored in directory: /root/.cache/pip/wheels/9a/df/91/3116f0d42112dbe33ca85c8ea142144f1bec1a056966614a02\n",
            "Successfully built pysha3 trotter\n",
            "Installing collected packages: urllib3, six, idna, charset-normalizer, requests, pysha3, mnemonic, ecdsa, base58, trotter, tqdm, hdwallet, btc-com\n",
            "  Attempting uninstall: urllib3\n",
            "    Found existing installation: urllib3 1.26.3\n",
            "    Uninstalling urllib3-1.26.3:\n",
            "      Successfully uninstalled urllib3-1.26.3\n",
            "  Attempting uninstall: six\n",
            "    Found existing installation: six 1.15.0\n",
            "    Uninstalling six-1.15.0:\n",
            "      Successfully uninstalled six-1.15.0\n",
            "  Attempting uninstall: idna\n",
            "    Found existing installation: idna 2.10\n",
            "    Uninstalling idna-2.10:\n",
            "      Successfully uninstalled idna-2.10\n",
            "  Attempting uninstall: requests\n",
            "    Found existing installation: requests 2.25.1\n",
            "    Uninstalling requests-2.25.1:\n",
            "      Successfully uninstalled requests-2.25.1\n",
            "  Attempting uninstall: tqdm\n",
            "    Found existing installation: tqdm 4.59.0\n",
            "    Uninstalling tqdm-4.59.0:\n",
            "      Successfully uninstalled tqdm-4.59.0\n",
            "Successfully installed base58-2.1.1 btc-com-0.0.1 charset-normalizer-2.1.0 ecdsa-0.17.0 hdwallet-2.1.1 idna-3.3 mnemonic-0.20 pysha3-1.0.2 requests-2.28.1 six-1.16.0 tqdm-4.64.0 trotter-0.8.0 urllib3-1.26.9\n"
          ]
        }
      ]
    },
    {
      "cell_type": "code",
      "source": [
        "!easy_install argparse"
      ],
      "metadata": {
        "colab": {
          "base_uri": "https://localhost:8080/"
        },
        "id": "1YR1TFFLOIRf",
        "outputId": "917871a0-a3e6-467d-a719-86bdb458cb8f"
      },
      "execution_count": null,
      "outputs": [
        {
          "output_type": "stream",
          "name": "stdout",
          "text": [
            "WARNING: The easy_install command is deprecated and will be removed in a future version.\n",
            "Searching for argparse\n",
            "Reading https://pypi.org/simple/argparse/\n",
            "Downloading https://files.pythonhosted.org/packages/f2/94/3af39d34be01a24a6e65433d19e107099374224905f1e0cc6bbe1fd22a2f/argparse-1.4.0-py2.py3-none-any.whl#sha256=c31647edb69fd3d465a847ea3157d37bed1f95f19760b11a47aa91c04b666314\n",
            "Best match: argparse 1.4.0\n",
            "Processing argparse-1.4.0-py2.py3-none-any.whl\n",
            "Installing argparse-1.4.0-py2.py3-none-any.whl to /usr/local/lib/python3.7/site-packages\n",
            "Adding argparse 1.4.0 to easy-install.pth file\n",
            "\n",
            "Installed /usr/local/lib/python3.7/site-packages/argparse-1.4.0-py3.7.egg\n",
            "Processing dependencies for argparse\n",
            "Finished processing dependencies for argparse\n"
          ]
        }
      ]
    },
    {
      "cell_type": "code",
      "source": [
        "!python3 solver.py --maskedkey=L**Dgecy****5Pxwxr3rs****oJF7VyG6Feg***s485PzWcd**** --address=1GDu4EUz2KgeYT4CukDS3qNkiCzg1UfqRA --mode=random --fetchbalances"
      ],
      "metadata": {
        "colab": {
          "base_uri": "https://localhost:8080/"
        },
        "id": "FGYUteZk3LFT",
        "outputId": "412bfb17-fc1c-47e1-f566-97b8cd994cf3"
      },
      "execution_count": null,
      "outputs": [
        {
          "output_type": "stream",
          "name": "stdout",
          "text": [
            "  File \"solver.py\", line 55\n",
            "    match secret_type:\n",
            "                    ^\n",
            "SyntaxError: invalid syntax\n"
          ]
        }
      ]
    }
  ]
}